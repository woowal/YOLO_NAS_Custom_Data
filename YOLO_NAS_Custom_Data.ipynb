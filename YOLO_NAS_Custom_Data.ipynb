{
  "nbformat": 4,
  "nbformat_minor": 0,
  "metadata": {
    "colab": {
      "provenance": [],
      "gpuType": "T4",
      "authorship_tag": "ABX9TyO2MqBEgOZ053EqvNyTNt1d",
      "include_colab_link": true
    },
    "kernelspec": {
      "name": "python3",
      "display_name": "Python 3"
    },
    "language_info": {
      "name": "python"
    },
    "accelerator": "GPU"
  },
  "cells": [
    {
      "cell_type": "markdown",
      "metadata": {
        "id": "view-in-github",
        "colab_type": "text"
      },
      "source": [
        "<a href=\"https://colab.research.google.com/github/woowal/YOLO_NAS_Custom_Data/blob/main/YOLO_NAS_Custom_Data.ipynb\" target=\"_parent\"><img src=\"https://colab.research.google.com/assets/colab-badge.svg\" alt=\"Open In Colab\"/></a>"
      ]
    },
    {
      "cell_type": "code",
      "execution_count": null,
      "metadata": {
        "id": "h4QHKAn1xGM4"
      },
      "outputs": [],
      "source": [
        "!pip install super-gradients==3.5.0\n",
        "!pip install opencv-python\n",
        "!pip install imutils\n",
        "!pip install roboflow\n",
        "!pip install ultralytics\n",
        "!pip install onemetric\n",
        "!pip install supervision"
      ]
    },
    {
      "cell_type": "code",
      "source": [
        "import cv2\n",
        "import torch\n",
        "from IPython.display import clear_output\n",
        "from super_gradients.training.losses import PPYoloELoss\n",
        "from super_gradients.training.metrics import DetectionMetrics_050\n",
        "from super_gradients.training.models.detection_models.pp_yolo_e import PPYoloEPostPredictionCallback\n",
        "from super_gradients.training import models\n",
        "from super_gradients.training import Trainer\n",
        "from super_gradients.training import dataloaders\n",
        "from super_gradients.training.dataloaders.dataloaders import coco_detection_yolo_format_train, coco_detection_yolo_format_val\n",
        "#-- GPU 설정\n",
        "device = torch.device(\"cuda:0\" if torch.cuda.is_available() else \"cpu\")\n",
        "print(device)\n",
        "use_cuda = torch.cuda.is_available()\n",
        "print(use_cuda)\n",
        "if use_cuda:\n",
        "  print(torch.cuda.get_device_name(0))"
      ],
      "metadata": {
        "id": "ofbDJlj5xYlM"
      },
      "execution_count": null,
      "outputs": []
    },
    {
      "cell_type": "code",
      "source": [
        "CHECKPOINT_DIR = 'checkpoints'\n",
        "trainer = Trainer(experiment_name='potato_yolonas_run', ckpt_root_dir=CHECKPOINT_DIR)"
      ],
      "metadata": {
        "id": "4gxurnl1xawA"
      },
      "execution_count": null,
      "outputs": []
    },
    {
      "cell_type": "code",
      "source": [
        "#커스텀 데이터셋 가져오기\n",
        "from roboflow import Roboflow\n",
        "rf = Roboflow(api_key=\"zvkzBMi7kSL5hhiyz46i\")\n",
        "project = rf.workspace(\"yoloprac-ljuxs\").project(\"sweet-or-not\")\n",
        "version = project.version(3)\n",
        "dataset = version.download(\"yolov5\")"
      ],
      "metadata": {
        "id": "kfIt5hHjxc2r"
      },
      "execution_count": null,
      "outputs": []
    },
    {
      "cell_type": "code",
      "source": [
        "dataset_params = {\n",
        "    'data_dir':'/content/sweet-or-not-3',\n",
        "    'train_images_dir':'train/images',\n",
        "    'train_labels_dir':'train/labels',\n",
        "    'val_images_dir':'valid/images',\n",
        "    'val_labels_dir':'valid/labels',\n",
        "    'test_images_dir':'test/images',\n",
        "    'test_labels_dir':'test/labels',\n",
        "    'classes': ['potato', 'sweetpotato']\n",
        "}"
      ],
      "metadata": {
        "id": "tL02BLFLxeJN"
      },
      "execution_count": null,
      "outputs": []
    },
    {
      "cell_type": "code",
      "source": [
        "from super_gradients.training import dataloaders\n",
        "from super_gradients.training.dataloaders.dataloaders import coco_detection_yolo_format_train, coco_detection_yolo_format_val\n",
        "\n",
        "train_data = coco_detection_yolo_format_train(\n",
        "    dataset_params={\n",
        "        'data_dir': dataset_params['data_dir'],\n",
        "        'images_dir': dataset_params['train_images_dir'],\n",
        "        'labels_dir': dataset_params['train_labels_dir'],\n",
        "        'classes': dataset_params['classes']\n",
        "        # 'show_all_warnings': True\n",
        "    },\n",
        "    dataloader_params={\n",
        "        'batch_size':10,\n",
        "        'num_workers':5\n",
        "    }\n",
        ")\n",
        "\n",
        "val_data = coco_detection_yolo_format_val(\n",
        "    dataset_params={\n",
        "        'data_dir': dataset_params['data_dir'],\n",
        "        'images_dir': dataset_params['val_images_dir'],\n",
        "        'labels_dir': dataset_params['val_labels_dir'],\n",
        "        'classes': dataset_params['classes']\n",
        "    },\n",
        "    dataloader_params={\n",
        "        'batch_size':10,\n",
        "        'num_workers':5\n",
        "    }\n",
        ")\n",
        "\n",
        "test_data = coco_detection_yolo_format_val(\n",
        "    dataset_params={\n",
        "        'data_dir': dataset_params['data_dir'],\n",
        "        'images_dir': dataset_params['test_images_dir'],\n",
        "        'labels_dir': dataset_params['test_labels_dir'],\n",
        "        'classes': dataset_params['classes']\n",
        "    },\n",
        "    dataloader_params={\n",
        "        'batch_size':10,\n",
        "        'num_workers':5\n",
        "    }\n",
        ")\n",
        "\n",
        "clear_output()"
      ],
      "metadata": {
        "id": "4Eor5mSDxgBM"
      },
      "execution_count": null,
      "outputs": []
    },
    {
      "cell_type": "code",
      "source": [
        "train_data.dataset.transforms\n",
        "train_data.dataset.dataset_params['transforms'][1]\n",
        "train_data.dataset.dataset_params['transforms'][1]['DetectionRandomAffine']['degrees'] = 10.42"
      ],
      "metadata": {
        "id": "GAR2xN4KxjEb"
      },
      "execution_count": null,
      "outputs": []
    },
    {
      "cell_type": "code",
      "source": [
        "train_data.dataset.plot()"
      ],
      "metadata": {
        "id": "R9wYwktVxkgq"
      },
      "execution_count": null,
      "outputs": []
    },
    {
      "cell_type": "code",
      "source": [
        "model = models.get('yolo_nas_m',\n",
        "                   num_classes=len(dataset_params['classes']),\n",
        "                   pretrained_weights=\"coco\"\n",
        "                   )"
      ],
      "metadata": {
        "id": "KFWhfUKZxlwK"
      },
      "execution_count": null,
      "outputs": []
    },
    {
      "cell_type": "code",
      "source": [
        "train_params = {\n",
        "    # 훈련 중 출력 억제\n",
        "    'silent_mode': True,\n",
        "    # 모델들의 평균을 사용하여 최종 모델 생성\n",
        "    \"average_best_models\":True,\n",
        "    \"warmup_mode\": \"linear_epoch_step\",\n",
        "    \"warmup_initial_lr\": 1e-6,\n",
        "    \"lr_warmup_epochs\": 3,\n",
        "    \"initial_lr\": 5e-4,\n",
        "    \"lr_mode\": \"cosine\",\n",
        "    \"cosine_final_lr_ratio\": 0.1,\n",
        "    \"optimizer\": \"Adam\",\n",
        "    \"optimizer_params\": {\"weight_decay\": 0.0001},\n",
        "    \"zero_weight_decay_on_bias_and_bn\": True,\n",
        "    \"ema\": True,\n",
        "    \"ema_params\": {\"decay\": 0.9, \"decay_type\": \"threshold\"},\n",
        "    \"max_epochs\": 100,\n",
        "    \"mixed_precision\": True,\n",
        "    \"loss\": PPYoloELoss(\n",
        "        use_static_assigner=False,\n",
        "        num_classes=len(dataset_params['classes']),\n",
        "        reg_max=16\n",
        "    ),\n",
        "    \"valid_metrics_list\": [\n",
        "        DetectionMetrics_050(\n",
        "            score_thres=0.1,\n",
        "            top_k_predictions=300,\n",
        "            num_cls=len(dataset_params['classes']),\n",
        "            normalize_targets=True,\n",
        "            post_prediction_callback=PPYoloEPostPredictionCallback(\n",
        "                score_threshold=0.01,\n",
        "                nms_top_k=1000,\n",
        "                max_predictions=300,\n",
        "                nms_threshold=0.7\n",
        "            )\n",
        "        )\n",
        "    ],\n",
        "    \"metric_to_watch\": 'mAP@0.50',\n",
        "    \"loggers\": \"tensorboard\"\n",
        "}"
      ],
      "metadata": {
        "id": "waksC-AMxnZB"
      },
      "execution_count": null,
      "outputs": []
    },
    {
      "cell_type": "code",
      "source": [
        "trainer.train(model=model,\n",
        "              training_params=train_params,\n",
        "              train_loader=train_data,\n",
        "              valid_loader=val_data)"
      ],
      "metadata": {
        "id": "QFnttX5bxpKB"
      },
      "execution_count": null,
      "outputs": []
    },
    {
      "cell_type": "code",
      "source": [
        "best_model = models.get('yolo_nas_m',\n",
        "                        num_classes=len(dataset_params['classes']),\n",
        "                        checkpoint_path=\"/content/checkpoints/potato_yolonas_run/RUN_20240406_121234_032396/ckpt_best.pth\")"
      ],
      "metadata": {
        "id": "eHGAwxEKxqxT"
      },
      "execution_count": null,
      "outputs": []
    },
    {
      "cell_type": "code",
      "source": [
        "#TensorBoard 활용\n",
        "%load_ext tensorboard\n",
        "%tensorboard --logdir /content/checkpoints/potato_yolonas_run/RUN_20240406_121234_032396"
      ],
      "metadata": {
        "id": "pq1X6M0iGj1s"
      },
      "execution_count": null,
      "outputs": []
    },
    {
      "cell_type": "code",
      "source": [
        "#Evaluate\n",
        "trainer.test(model=best_model,\n",
        "            test_loader=test_data,\n",
        "            test_metrics_list=DetectionMetrics_050(score_thres=0.1,\n",
        "                                                   top_k_predictions=300,\n",
        "                                                   num_cls=len(dataset_params['classes']),\n",
        "                                                   normalize_targets=True,\n",
        "                                                   post_prediction_callback=PPYoloEPostPredictionCallback(score_threshold=0.01,\n",
        "                                                                                                          nms_top_k=1000,\n",
        "                                                                                                          max_predictions=300,\n",
        "                                                                                                          nms_threshold=0.7)\n",
        "                                                  ))"
      ],
      "metadata": {
        "id": "33qrHVQCxtdV"
      },
      "execution_count": null,
      "outputs": []
    },
    {
      "cell_type": "code",
      "source": [
        "# Train model Inference\n",
        "import supervision as sv\n",
        "\n",
        "ds = sv.DetectionDataset.from_yolo(\n",
        "    images_directory_path=f\"{dataset_params['data_dir']}/test/images\",\n",
        "    annotations_directory_path=f\"{dataset_params['data_dir']}/test/labels\",\n",
        "    data_yaml_path=f\"{dataset_params['data_dir']}/data.yaml\",\n",
        "    force_masks=False\n",
        ")\n",
        "\n",
        "CONFIDENCE_TRESHOLD = 0.5\n",
        "\n",
        "predictions = {}\n",
        "\n",
        "for image_name, image in ds.images.items():\n",
        "    result = list(best_model.predict(image, conf=CONFIDENCE_TRESHOLD))[0]\n",
        "    detections = sv.Detections(\n",
        "        xyxy=result.prediction.bboxes_xyxy,\n",
        "        confidence=result.prediction.confidence,\n",
        "        class_id=result.prediction.labels.astype(int)\n",
        "    )\n",
        "    predictions[image_name] = detections"
      ],
      "metadata": {
        "id": "CAwyLwZVPy0r"
      },
      "execution_count": null,
      "outputs": []
    },
    {
      "cell_type": "code",
      "source": [
        "#Inference 결과 시각화\n",
        "import random\n",
        "random.seed(10)\n",
        "MAX_IMAGE_COUNT = 5\n",
        "\n",
        "n = min(MAX_IMAGE_COUNT, len(ds.images))\n",
        "\n",
        "keys = list(ds.images.keys())\n",
        "keys = random.sample(keys, n)\n",
        "\n",
        "box_annotator = sv.BoxAnnotator()\n",
        "\n",
        "images = []\n",
        "titles = []\n",
        "\n",
        "for key in keys:\n",
        "    frame_with_annotations = box_annotator.annotate(\n",
        "        scene=ds.images[key].copy(),\n",
        "        detections=ds.annotations[key],\n",
        "        skip_label=True\n",
        "    )\n",
        "    images.append(frame_with_annotations)\n",
        "    titles.append('annotations')\n",
        "    frame_with_predictions = box_annotator.annotate(\n",
        "        scene=ds.images[key].copy(),\n",
        "        detections=predictions[key],\n",
        "        skip_label=True\n",
        "    )\n",
        "    images.append(frame_with_predictions)\n",
        "    titles.append('predictions')\n",
        "\n",
        "%matplotlib inline\n",
        "sv.plot_images_grid(images=images, titles=titles, grid_size=(n, 2), size=(2 * 4, n * 4))"
      ],
      "metadata": {
        "id": "ZRZdrStjQrFV"
      },
      "execution_count": null,
      "outputs": []
    },
    {
      "cell_type": "code",
      "source": [
        "#Confusion Matrix 시각화\n",
        "\n",
        "import os\n",
        "\n",
        "import numpy as np\n",
        "\n",
        "from onemetric.cv.object_detection import ConfusionMatrix\n",
        "\n",
        "HOME = os.getcwd()\n",
        "keys = list(ds.images.keys())\n",
        "\n",
        "annotation_batches, prediction_batches = [], []\n",
        "\n",
        "for key in keys:\n",
        "    annotation=ds.annotations[key]\n",
        "    annotation_batch = np.column_stack((\n",
        "        annotation.xyxy,\n",
        "        annotation.class_id\n",
        "    ))\n",
        "    annotation_batches.append(annotation_batch)\n",
        "\n",
        "    prediction=predictions[key]\n",
        "    prediction_batch = np.column_stack((\n",
        "        prediction.xyxy,\n",
        "        prediction.class_id,\n",
        "        prediction.confidence\n",
        "    ))\n",
        "    prediction_batches.append(prediction_batch)\n",
        "\n",
        "confusion_matrix = ConfusionMatrix.from_detections(\n",
        "    true_batches=annotation_batches,\n",
        "    detection_batches=prediction_batches,\n",
        "    num_classes=len(ds.classes),\n",
        "    conf_threshold=CONFIDENCE_TRESHOLD\n",
        ")\n",
        "\n",
        "confusion_matrix.plot(os.path.join(HOME, \"confusion_matrix.png\"), class_names=ds.classes)"
      ],
      "metadata": {
        "id": "bMZjvglp7qqU"
      },
      "execution_count": null,
      "outputs": []
    },
    {
      "cell_type": "code",
      "source": [
        "img = cv2.imread(\"/content/test3.jpeg\")\n",
        "img = cv2.cvtColor(img, cv2.COLOR_BGR2RGB)\n",
        "outputs = model.predict(img)\n",
        "outputs.show()"
      ],
      "metadata": {
        "id": "ghDLlTG7xvUu"
      },
      "execution_count": null,
      "outputs": []
    }
  ]
}